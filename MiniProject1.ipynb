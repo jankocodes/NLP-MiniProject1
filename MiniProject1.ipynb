{
 "cells": [
  {
   "cell_type": "code",
   "execution_count": 13,
   "metadata": {},
   "outputs": [
    {
     "name": "stdout",
     "output_type": "stream",
     "text": [
      "The autoreload extension is already loaded. To reload it, use:\n",
      "  %reload_ext autoreload\n"
     ]
    }
   ],
   "source": [
    "%load_ext autoreload\n",
    "%autoreload 2"
   ]
  },
  {
   "cell_type": "code",
   "execution_count": 14,
   "metadata": {},
   "outputs": [],
   "source": [
    "from collections import Counter\n"
   ]
  },
  {
   "cell_type": "code",
   "execution_count": 15,
   "metadata": {},
   "outputs": [
    {
     "data": {
      "text/plain": [
       "'anarchism originated as a term of abuse first used against early working class radicals including th'"
      ]
     },
     "execution_count": 15,
     "metadata": {},
     "output_type": "execute_result"
    }
   ],
   "source": [
    "with open(\"data/training/text8_20m.txt\") as f:\n",
    "    text= f.read()\n",
    "    \n",
    "text[:100]"
   ]
  },
  {
   "cell_type": "markdown",
   "metadata": {},
   "source": [
    "**Text Preprocessing** \n"
   ]
  },
  {
   "cell_type": "code",
   "execution_count": 16,
   "metadata": {},
   "outputs": [
    {
     "data": {
      "text/plain": [
       "['anarchism',\n",
       " 'originated',\n",
       " 'as',\n",
       " 'a',\n",
       " 'term',\n",
       " 'of',\n",
       " 'abuse',\n",
       " 'first',\n",
       " 'used',\n",
       " 'against']"
      ]
     },
     "execution_count": 16,
     "metadata": {},
     "output_type": "execute_result"
    }
   ],
   "source": [
    "words= text.split(\" \")\n",
    "\n",
    "words[:10]"
   ]
  },
  {
   "cell_type": "markdown",
   "metadata": {},
   "source": [
    "**Building the Vocabulary**"
   ]
  },
  {
   "cell_type": "code",
   "execution_count": 17,
   "metadata": {},
   "outputs": [
    {
     "data": {
      "text/plain": [
       "[1336, 2862, 13, 7, 194, 2, 4067, 49, 60, 137]"
      ]
     },
     "execution_count": 17,
     "metadata": {},
     "output_type": "execute_result"
    }
   ],
   "source": [
    "words_count= Counter(words).most_common(60000)\n",
    "\n",
    "most_freq_words= [item for item, _ in words_count]\n",
    "\n",
    "#assigning unique id to every word\n",
    "word_idx= {word: i+1 for i, word in enumerate(most_freq_words)}\n",
    "word_idx['<UNK>']= 0\n",
    "\n",
    "#converting text to idx\n",
    "text_idx= [word_idx.get(w, word_idx['<UNK>']) for w in words]\n",
    "\n",
    "#add freq of unfrequent words\n",
    "words_count.append(('UNK', text_idx.count(0)))\n",
    "\n",
    "text_idx[:10]"
   ]
  },
  {
   "cell_type": "markdown",
   "metadata": {},
   "source": [
    "**Generate training data**"
   ]
  },
  {
   "cell_type": "code",
   "execution_count": 18,
   "metadata": {},
   "outputs": [
    {
     "data": {
      "text/plain": [
       "[(1336, 2862),\n",
       " (1336, 13),\n",
       " (2862, 1336),\n",
       " (2862, 13),\n",
       " (2862, 7),\n",
       " (13, 1336),\n",
       " (13, 2862),\n",
       " (13, 7),\n",
       " (13, 194),\n",
       " (7, 2862)]"
      ]
     },
     "execution_count": 18,
     "metadata": {},
     "output_type": "execute_result"
    }
   ],
   "source": [
    "def generate_training_pairs(words, C):\n",
    "    training_pairs= []\n",
    "    n= len(words)\n",
    "    \n",
    "    for i, center_word in enumerate(text_idx):\n",
    "        start_idx= max(0, i-C)\n",
    "        end_idx= min(n-1, i+C+1)\n",
    "        \n",
    "        for j in range(start_idx, end_idx):\n",
    "            if j!=i: #skip center word\n",
    "                training_pairs.append((center_word, words[j]))\n",
    "    \n",
    "    return training_pairs\n",
    "\n",
    "C= 2\n",
    "\n",
    "training_pairs= generate_training_pairs(text_idx, C)\n",
    "\n",
    "training_pairs[:10]"
   ]
  },
  {
   "cell_type": "markdown",
   "metadata": {},
   "source": [
    "Calculate unigram and smoothed unigram distribution"
   ]
  },
  {
   "cell_type": "code",
   "execution_count": 19,
   "metadata": {},
   "outputs": [],
   "source": [
    "import numpy as np\n",
    "N= sum([c for _,c in words_count])\n",
    "alpha= 3/4\n",
    "\n",
    "unigram= {word: freq/N for word,freq in words_count}\n",
    "\n",
    "unigram_sum= sum(u**alpha for u in unigram.values())\n",
    "\n",
    "smoothed_unigram= {word: (uni**alpha)/unigram_sum for word, uni in unigram.items()}\n",
    "\n",
    "unigram_table= np.array(list(smoothed_unigram.values()))\n"
   ]
  },
  {
   "cell_type": "markdown",
   "metadata": {},
   "source": [
    "**Training Loop**"
   ]
  },
  {
   "cell_type": "code",
   "execution_count": null,
   "metadata": {},
   "outputs": [],
   "source": [
    "from torch.utils.data import DataLoader\n",
    "from torch.optim import Adam\n",
    "from Skipgram import Skipgram\n",
    "from NegativeSamplingLoss import NegativeSamplingLoss\n",
    "import torch\n",
    "import numpy as np\n",
    "from alive_progress import alive_bar\n",
    "\n",
    "def train_skipgram(dataset, vocab_size, unigram, embedding_dim, batch_size=64, epochs=5, learning_rate=0.01, num_negatives=20):\n",
    "    \n",
    "    dataloader= DataLoader(dataset, batch_size)\n",
    "    \n",
    "    model= Skipgram(vocab_size, embedding_dim)\n",
    "    device = torch.device('mps' if torch.backends.mps.is_available() else 'cpu')\n",
    "    model= model.to(device)\n",
    "    \n",
    "    criterion= NegativeSamplingLoss()\n",
    "    optim= Adam(model.parameters(), lr=learning_rate)\n",
    "    \n",
    "    \n",
    "    for epoch in range(epochs):\n",
    "        total_loss= 0\n",
    "                \n",
    "        with(alive_bar(len(dataloader), force_tty=True)) as bar:\n",
    "            for center, contexts in dataloader:\n",
    "                center, contexts = center.long(), contexts.long()\n",
    "                center= center.to(device)\n",
    "                contexts= contexts.to(device)\n",
    "                \n",
    "                #make sure batch_size is equal\n",
    "                current_batch_size= len(center)\n",
    "                \n",
    "                #sample negatives from unigram\n",
    "                negatives= torch.tensor(\n",
    "                    np.random.choice(\n",
    "                        vocab_size,\n",
    "                        (current_batch_size, num_negatives),\n",
    "                        p= unigram\n",
    "                    ),\n",
    "                    dtype=torch.long,\n",
    "                    device=device\n",
    "                )\n",
    "                \n",
    "                #forward pass\n",
    "                positive_score, negative_score= model(center, contexts, negatives)\n",
    "                \n",
    "                loss= criterion(positive_score, negative_score)\n",
    "                \n",
    "                optim.zero_grad()\n",
    "                loss.backward()\n",
    "                optim.step()\n",
    "                \n",
    "                total_loss+= loss.item()\n",
    "                bar()\n",
    "                \n",
    "        print(f\"Epoch {epoch+1}/{epochs} -- Loss: {total_loss/len(dataloader):.4F}\")\n",
    "    \n",
    "    return model\n",
    "            "
   ]
  },
  {
   "cell_type": "markdown",
   "metadata": {},
   "source": [
    "**Training**"
   ]
  },
  {
   "cell_type": "code",
   "execution_count": 37,
   "metadata": {},
   "outputs": [
    {
     "name": "stdout",
     "output_type": "stream",
     "text": [
      "|▊⚠︎                                      | (!) 297/15625 [2%] in 13.7s (21.76/s)\n"
     ]
    },
    {
     "ename": "KeyboardInterrupt",
     "evalue": "",
     "output_type": "error",
     "traceback": [
      "\u001b[0;31m---------------------------------------------------------------------------\u001b[0m",
      "\u001b[0;31mKeyboardInterrupt\u001b[0m                         Traceback (most recent call last)",
      "Cell \u001b[0;32mIn[37], line 19\u001b[0m\n\u001b[1;32m     16\u001b[0m embedding_dim\u001b[38;5;241m=\u001b[39m \u001b[38;5;241m128\u001b[39m\n\u001b[1;32m     18\u001b[0m t0\u001b[38;5;241m=\u001b[39m time\u001b[38;5;241m.\u001b[39mtime()\n\u001b[0;32m---> 19\u001b[0m model \u001b[38;5;241m=\u001b[39m \u001b[43mtrain_skipgram\u001b[49m\u001b[43m(\u001b[49m\u001b[43mdataset\u001b[49m\u001b[43m,\u001b[49m\u001b[43m \u001b[49m\u001b[43mvocab_size\u001b[49m\u001b[43m,\u001b[49m\u001b[43m \u001b[49m\u001b[43munigram_table\u001b[49m\u001b[43m,\u001b[49m\n\u001b[1;32m     20\u001b[0m \u001b[43m                       \u001b[49m\u001b[43membedding_dim\u001b[49m\u001b[38;5;241;43m=\u001b[39;49m\u001b[43m \u001b[49m\u001b[43mEMBEDDING_DIM\u001b[49m\u001b[43m,\u001b[49m\n\u001b[1;32m     21\u001b[0m \u001b[43m                       \u001b[49m\u001b[43mbatch_size\u001b[49m\u001b[38;5;241;43m=\u001b[39;49m\u001b[43m \u001b[49m\u001b[43mBATCH_SIZE\u001b[49m\u001b[43m,\u001b[49m\n\u001b[1;32m     22\u001b[0m \u001b[43m                       \u001b[49m\u001b[43mepochs\u001b[49m\u001b[38;5;241;43m=\u001b[39;49m\u001b[43m \u001b[49m\u001b[43mEPOCHS\u001b[49m\u001b[43m,\u001b[49m\n\u001b[1;32m     23\u001b[0m \u001b[43m                       \u001b[49m\u001b[43mlearning_rate\u001b[49m\u001b[38;5;241;43m=\u001b[39;49m\u001b[43mLEARNIN_RATE\u001b[49m\u001b[43m,\u001b[49m\n\u001b[1;32m     24\u001b[0m \u001b[43m                       \u001b[49m\u001b[43mnum_negatives\u001b[49m\u001b[38;5;241;43m=\u001b[39;49m\u001b[43mNUM_NEGATIVES\u001b[49m\u001b[43m)\u001b[49m\n\u001b[1;32m     25\u001b[0m t1\u001b[38;5;241m=\u001b[39m time\u001b[38;5;241m.\u001b[39mtime()\n\u001b[1;32m     27\u001b[0m \u001b[38;5;66;03m#torch.save(model.state_dict(), 'model.pth')\u001b[39;00m\n",
      "Cell \u001b[0;32mIn[20], line 53\u001b[0m, in \u001b[0;36mtrain_skipgram\u001b[0;34m(dataset, vocab_size, unigram, embedding_dim, batch_size, epochs, learning_rate, num_negatives)\u001b[0m\n\u001b[1;32m     50\u001b[0m         loss\u001b[38;5;241m.\u001b[39mbackward()\n\u001b[1;32m     51\u001b[0m         optim\u001b[38;5;241m.\u001b[39mstep()\n\u001b[0;32m---> 53\u001b[0m         total_loss\u001b[38;5;241m+\u001b[39m\u001b[38;5;241m=\u001b[39m \u001b[43mloss\u001b[49m\u001b[38;5;241;43m.\u001b[39;49m\u001b[43mitem\u001b[49m\u001b[43m(\u001b[49m\u001b[43m)\u001b[49m\n\u001b[1;32m     54\u001b[0m         bar()\n\u001b[1;32m     56\u001b[0m \u001b[38;5;28mprint\u001b[39m(\u001b[38;5;124mf\u001b[39m\u001b[38;5;124m\"\u001b[39m\u001b[38;5;124mEpoch \u001b[39m\u001b[38;5;132;01m{\u001b[39;00mepoch\u001b[38;5;241m+\u001b[39m\u001b[38;5;241m1\u001b[39m\u001b[38;5;132;01m}\u001b[39;00m\u001b[38;5;124m/\u001b[39m\u001b[38;5;132;01m{\u001b[39;00mepochs\u001b[38;5;132;01m}\u001b[39;00m\u001b[38;5;124m -- Loss: \u001b[39m\u001b[38;5;132;01m{\u001b[39;00mtotal_loss\u001b[38;5;241m/\u001b[39m\u001b[38;5;28mlen\u001b[39m(dataloader)\u001b[38;5;132;01m:\u001b[39;00m\u001b[38;5;124m.4F\u001b[39m\u001b[38;5;132;01m}\u001b[39;00m\u001b[38;5;124m\"\u001b[39m)\n",
      "\u001b[0;31mKeyboardInterrupt\u001b[0m: "
     ]
    }
   ],
   "source": [
    "from SkipgramDataset import SkipgramDataset\n",
    "import time\n",
    "\n",
    "### Hyperparameters ###\n",
    "EMBEDDING_DIM= 128\n",
    "BATCH_SIZE= 512\n",
    "EPOCHS= 5\n",
    "LEARNIN_RATE= 0.001\n",
    "NUM_NEGATIVES= 15\n",
    "#######################\n",
    "\n",
    "pairs= training_pairs\n",
    "dataset= SkipgramDataset(pairs)\n",
    "vocab_size= 60001\n",
    "\n",
    "embedding_dim= 128\n",
    "\n",
    "t0= time.time()\n",
    "model = train_skipgram(dataset, vocab_size, unigram_table,\n",
    "                       embedding_dim= EMBEDDING_DIM,\n",
    "                       batch_size= BATCH_SIZE,\n",
    "                       epochs= EPOCHS,\n",
    "                       learning_rate=LEARNIN_RATE,\n",
    "                       num_negatives=NUM_NEGATIVES)\n",
    "t1= time.time()\n",
    "\n",
    "#torch.save(model.state_dict(), 'model.pth')\n",
    "\n",
    "print(f\"Time: {t1-t0:.2F} seconds\")\n"
   ]
  },
  {
   "cell_type": "markdown",
   "metadata": {},
   "source": [
    "**Evaluation**"
   ]
  },
  {
   "cell_type": "markdown",
   "metadata": {},
   "source": [
    "Calculate word embeddings for the evaluation words."
   ]
  },
  {
   "cell_type": "code",
   "execution_count": 34,
   "metadata": {},
   "outputs": [
    {
     "data": {
      "text/html": [
       "<div>\n",
       "<style scoped>\n",
       "    .dataframe tbody tr th:only-of-type {\n",
       "        vertical-align: middle;\n",
       "    }\n",
       "\n",
       "    .dataframe tbody tr th {\n",
       "        vertical-align: top;\n",
       "    }\n",
       "\n",
       "    .dataframe thead th {\n",
       "        text-align: right;\n",
       "    }\n",
       "</style>\n",
       "<table border=\"1\" class=\"dataframe\">\n",
       "  <thead>\n",
       "    <tr style=\"text-align: right;\">\n",
       "      <th></th>\n",
       "      <th>Word 1</th>\n",
       "      <th>Word 2</th>\n",
       "      <th>Human (mean)</th>\n",
       "      <th>W1 Embeddning</th>\n",
       "      <th>W2 Embeddning</th>\n",
       "      <th>Cosine similarity</th>\n",
       "    </tr>\n",
       "  </thead>\n",
       "  <tbody>\n",
       "    <tr>\n",
       "      <th>0</th>\n",
       "      <td>love</td>\n",
       "      <td>sex</td>\n",
       "      <td>6.77</td>\n",
       "      <td>[0.1569589, -0.17230625, 0.16496423, 0.1681193...</td>\n",
       "      <td>[0.14207458, -0.14896418, 0.14856924, 0.146158...</td>\n",
       "      <td>0.998903</td>\n",
       "    </tr>\n",
       "    <tr>\n",
       "      <th>1</th>\n",
       "      <td>tiger</td>\n",
       "      <td>cat</td>\n",
       "      <td>7.35</td>\n",
       "      <td>[0.13159403, -0.13909984, 0.121444516, 0.13380...</td>\n",
       "      <td>[0.14156282, -0.13849904, 0.1430537, 0.1372891...</td>\n",
       "      <td>0.998015</td>\n",
       "    </tr>\n",
       "    <tr>\n",
       "      <th>2</th>\n",
       "      <td>tiger</td>\n",
       "      <td>tiger</td>\n",
       "      <td>10.00</td>\n",
       "      <td>[0.13159403, -0.13909984, 0.121444516, 0.13380...</td>\n",
       "      <td>[0.13159403, -0.13909984, 0.121444516, 0.13380...</td>\n",
       "      <td>1.000000</td>\n",
       "    </tr>\n",
       "    <tr>\n",
       "      <th>3</th>\n",
       "      <td>book</td>\n",
       "      <td>paper</td>\n",
       "      <td>7.46</td>\n",
       "      <td>[0.20702599, -0.20106122, 0.19336763, 0.198390...</td>\n",
       "      <td>[0.16673861, -0.16610381, 0.18135922, 0.172691...</td>\n",
       "      <td>0.998962</td>\n",
       "    </tr>\n",
       "    <tr>\n",
       "      <th>4</th>\n",
       "      <td>computer</td>\n",
       "      <td>keyboard</td>\n",
       "      <td>7.62</td>\n",
       "      <td>[0.15965901, -0.16700888, 0.15808117, 0.152309...</td>\n",
       "      <td>[0.09239234, -0.09823249, 0.0961571, 0.1005675...</td>\n",
       "      <td>0.997458</td>\n",
       "    </tr>\n",
       "  </tbody>\n",
       "</table>\n",
       "</div>"
      ],
      "text/plain": [
       "     Word 1    Word 2  Human (mean)  \\\n",
       "0      love       sex          6.77   \n",
       "1     tiger       cat          7.35   \n",
       "2     tiger     tiger         10.00   \n",
       "3      book     paper          7.46   \n",
       "4  computer  keyboard          7.62   \n",
       "\n",
       "                                       W1 Embeddning  \\\n",
       "0  [0.1569589, -0.17230625, 0.16496423, 0.1681193...   \n",
       "1  [0.13159403, -0.13909984, 0.121444516, 0.13380...   \n",
       "2  [0.13159403, -0.13909984, 0.121444516, 0.13380...   \n",
       "3  [0.20702599, -0.20106122, 0.19336763, 0.198390...   \n",
       "4  [0.15965901, -0.16700888, 0.15808117, 0.152309...   \n",
       "\n",
       "                                       W2 Embeddning  Cosine similarity  \n",
       "0  [0.14207458, -0.14896418, 0.14856924, 0.146158...           0.998903  \n",
       "1  [0.14156282, -0.13849904, 0.1430537, 0.1372891...           0.998015  \n",
       "2  [0.13159403, -0.13909984, 0.121444516, 0.13380...           1.000000  \n",
       "3  [0.16673861, -0.16610381, 0.18135922, 0.172691...           0.998962  \n",
       "4  [0.09239234, -0.09823249, 0.0961571, 0.1005675...           0.997458  "
      ]
     },
     "execution_count": 34,
     "metadata": {},
     "output_type": "execute_result"
    }
   ],
   "source": [
    "import pandas as pd\n",
    "\n",
    "device = torch.device('mps' if torch.backends.mps.is_available() else 'cpu')\n",
    "\n",
    "# model = Skipgram(vocab_size, embedding_dim) \n",
    "# model.to(device)\n",
    "# model.load_state_dict(torch.load('model.pth'))\n",
    "\n",
    "model.eval()\n",
    "\n",
    "wordsim353_df= pd.read_csv(\"data/evaluation/wordsim353.csv\")\n",
    "\n",
    "w1_embedding= wordsim353_df[\"W1 Embeddning\"]= [model.embedding(torch.tensor(word_idx.get(w1)).to(device)).cpu().detach().numpy() if w1 in word_idx.keys() else None\n",
    "                                 for w1 in wordsim353_df['Word 1']]\n",
    "\n",
    "w2_embedding= wordsim353_df[\"W2 Embeddning\"]= [model.embedding(torch.tensor(word_idx.get(w2)).to(device)).cpu().detach().numpy() if w2 in word_idx.keys() else None\n",
    "                                 for w2 in wordsim353_df['Word 2']]\n",
    "\n",
    "wordsim353_df['Cosine similarity']= [np.dot(v1, v2) / (np.linalg.norm(v1) * np.linalg.norm(v2))\n",
    "    if v1 is not None and v2 is not None else None\n",
    "    for v1, v2 in zip(w1_embedding, w2_embedding)]\n",
    "\n",
    "wordsim353_df=wordsim353_df.dropna(axis=0)\n",
    "\n",
    "wordsim353_df.head()"
   ]
  },
  {
   "cell_type": "markdown",
   "metadata": {},
   "source": [
    "Compare inferred cosine similarity and human-assigned similarity using Spearman’s rank correlation coefficient."
   ]
  },
  {
   "cell_type": "code",
   "execution_count": 35,
   "metadata": {},
   "outputs": [
    {
     "data": {
      "text/plain": [
       "SignificanceResult(statistic=-0.03218144596986976, pvalue=0.5644270069938524)"
      ]
     },
     "execution_count": 35,
     "metadata": {},
     "output_type": "execute_result"
    }
   ],
   "source": [
    "from scipy.stats import spearmanr\n",
    "\n",
    "cosine_sim= np.array(wordsim353_df['Cosine similarity'])\n",
    "human_score= np.array(wordsim353_df['Human (mean)'])\n",
    "\n",
    "spearman_coef= spearmanr(cosine_sim, wordsim353_df['Human (mean)'])\n",
    "\n",
    "spearman_coef"
   ]
  },
  {
   "cell_type": "markdown",
   "metadata": {},
   "source": [
    "**Visualization**"
   ]
  },
  {
   "cell_type": "code",
   "execution_count": 36,
   "metadata": {},
   "outputs": [
    {
     "data": {
      "image/png": "[encoded data removed]",
      "text/plain": [
       "<Figure size 1000x800 with 1 Axes>"
      ]
     },
     "metadata": {},
     "output_type": "display_data"
    }
   ],
   "source": [
    "from sklearn.decomposition import PCA\n",
    "import matplotlib.pyplot as plt\n",
    "from sklearn.preprocessing import LabelEncoder\n",
    "from adjustText import adjust_text\n",
    "\n",
    "def visualize_reduced_embeddings(reduced_embeddings, labels):\n",
    "\n",
    "    plt.figure(figsize=(10, 8))\n",
    "    \n",
    "    texts = []  # List to store text objects for adjustment\n",
    "    for i, word in enumerate(eval_words):\n",
    "        x, y = reduced_embeddings[i]\n",
    "        plt.scatter(x, y)\n",
    "        text = plt.text(x + 0.1*x, y + 0.1*y, word, fontsize=12)  # Create a text object\n",
    "        texts.append(text)  # Append the text object to the list\n",
    "\n",
    "    adjust_text(texts)\n",
    "\n",
    "    plt.title('2D PCA Visualization of Word Embeddings')\n",
    "    plt.xlabel('PCA Component 1')\n",
    "    plt.ylabel('PCA Component 2')\n",
    "    plt.grid(True)\n",
    "    plt.show()\n",
    "\n",
    "\n",
    "eval_words = [\n",
    "    \"king\", \"queen\", \"prince\", \"princess\", \"aunt\", \"uncle\", \"daughter\", \"son\",\n",
    "    \"paris\", \"france\", \"london\", \"england\",\n",
    "    \"apple\", \"potato\", \"mango\", \"fruit\",\n",
    "    \"lion\", \"wolf\", \"tiger\", \"elephant\",\n",
    "    \"car\", \"truck\", \"vehicle\", \"bus\",\n",
    "    \"neptune\", \"saturn\", \"pluto\", \"earth\"\n",
    "]\n",
    "\n",
    "eval_words_embeddings= [model.embedding(torch.tensor(word_idx.get(w)).to(device)).cpu().detach().numpy()\n",
    "                                 for w in eval_words] \n",
    "\n",
    "\n",
    "pca= PCA(n_components=2)\n",
    "\n",
    "reduced_embeddings= pca.fit_transform(eval_words_embeddings) \n",
    "visualize_reduced_embeddings(reduced_embeddings, eval_words)"
   ]
  }
 ],
 "metadata": {
  "kernelspec": {
   "display_name": "MiniProject1",
   "language": "python",
   "name": "python3"
  },
  "language_info": {
   "codemirror_mode": {
    "name": "ipython",
    "version": 3
   },
   "file_extension": ".py",
   "mimetype": "text/x-python",
   "name": "python",
   "nbconvert_exporter": "python",
   "pygments_lexer": "ipython3",
   "version": "3.9.21"
  }
 },
 "nbformat": 4,
 "nbformat_minor": 2
}
